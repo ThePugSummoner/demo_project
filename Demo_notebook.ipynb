{
    "cells": [
        {
            "metadata": {
                "collapsed": true
            },
            "cell_type": "markdown",
            "source": "### Exercise 10\n|Column1|Column2|Column3|\n|-------|-------|-------|\n|Row1Cell1|Row1Cell2|Row1Cell3|\n|Row2Cell1|Row2Cell2|Row2Cell3|\n|Row3Cell1|Row3Cell2|Row3Cell3|\n|Row4Cell1|Row4Cell2|Row4Cell3|"
        },
        {
            "metadata": {},
            "cell_type": "code",
            "source": "print (\"This is some exercise\")",
            "execution_count": 1,
            "outputs": [
                {
                    "output_type": "stream",
                    "text": "This is some exercise\n",
                    "name": "stdout"
                }
            ]
        },
        {
            "metadata": {},
            "cell_type": "code",
            "source": "",
            "execution_count": null,
            "outputs": []
        }
    ],
    "metadata": {
        "kernelspec": {
            "name": "python3",
            "display_name": "Python 3.10",
            "language": "python"
        },
        "language_info": {
            "name": "python",
            "version": "3.10.6",
            "mimetype": "text/x-python",
            "codemirror_mode": {
                "name": "ipython",
                "version": 3
            },
            "pygments_lexer": "ipython3",
            "nbconvert_exporter": "python",
            "file_extension": ".py"
        }
    },
    "nbformat": 4,
    "nbformat_minor": 1
}