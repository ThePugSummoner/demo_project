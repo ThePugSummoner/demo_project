{
    "cells": [
        {
            "cell_type": "markdown",
            "metadata": {
                "collapsed": true
            },
            "source": "### Exercise 10\n|Column1|Column2|Column3|\n|-------|-------|-------|\n|Row1Cell1|Row1Cell2|Row1Cell3|\n|Row2Cell1|Row2Cell2|Row2Cell3|\n|Row3Cell1|Row3Cell2|Row3Cell3|\n|Row4Cell1|Row4Cell2|Row4Cell3|"
        },
        {
            "cell_type": "code",
            "execution_count": null,
            "metadata": {},
            "outputs": [],
            "source": ""
        }
    ],
    "metadata": {
        "kernelspec": {
            "display_name": "Python 3.10",
            "language": "python",
            "name": "python3"
        },
        "language_info": {
            "codemirror_mode": {
                "name": "ipython",
                "version": 3
            },
            "file_extension": ".py",
            "mimetype": "text/x-python",
            "name": "python",
            "nbconvert_exporter": "python",
            "pygments_lexer": "ipython3",
            "version": "3.10.6"
        }
    },
    "nbformat": 4,
    "nbformat_minor": 1
}